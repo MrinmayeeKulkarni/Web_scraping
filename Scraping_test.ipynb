{
 "cells": [
  {
   "cell_type": "code",
   "execution_count": 5,
   "metadata": {},
   "outputs": [],
   "source": [
    "def scrape():\n",
    "    import os\n",
    "    from bs4 import BeautifulSoup as bs\n",
    "    import requests\n",
    "    import pymongo\n",
    "    from splinter import Browser\n",
    "    import pandas as pd\n",
    "    import time\n",
    "\n",
    "\n",
    "    executable_path = {\"executable_path\": r\"C:\\Users\\mrunm\\GitLab\\GWARL201902DATA3\\01-Lesson-Plans\\12-Web-Scraping-and-Document-Databases\\2\\Activities\\07-Ins_Splinter\\Solved\\chromedriver.exe\"}\n",
    "    browser=Browser(\"chrome\", **executable_path, headless=False)\n",
    "\n",
    "    #NASA News\n",
    "    url_nasa='https://mars.nasa.gov/news/'\n",
    "    browser.visit(url_nasa)\n",
    "    time.sleep(1)\n",
    "    html=browser.html\n",
    "    soup=bs(html,'html.parser')\n",
    "    news_title=soup.find('div',class_=\"content_title\").find('a').text\n",
    "    news_p=soup.find('div',class_=\"article_teaser_body\").text\n",
    "\n",
    "    #JPL Mars Space\n",
    "    url_img='https://www.jpl.nasa.gov/spaceimages/?search=&category=Mars'\n",
    "    browser.visit(url_img)\n",
    "    time.sleep(1)\n",
    "    browser.click_link_by_partial_text('FULL IMAGE')\n",
    "    time.sleep(5)\n",
    "    browser.click_link_by_partial_text('more info')\n",
    "    html=browser.html\n",
    "    soup=bs(html,'html.parser')\n",
    "    img=soup.find('figure',class_=\"lede\").a['href']\n",
    "    featured_img_url=f\"https://www.jpl.nasa.gov{img}\"\n",
    "\n",
    "    #Mars Weather\n",
    "    url_twt='https://twitter.com/marswxreport?lang=en'\n",
    "    browser.visit(url_twt)\n",
    "    time.sleep(1)\n",
    "    html=browser.html\n",
    "    soup=bs(html,'html.parser')\n",
    "    mars_weather=soup.find('div',class_=\"js-tweet-text-container\").find('p').text\n",
    "\n",
    "    #Mars Facts\n",
    "    url_fact='https://space-facts.com/mars/'\n",
    "    tables=pd.read_html(url_fact)\n",
    "    time.sleep(1)\n",
    "    mars_df=tables[0]\n",
    "    mars_df.columns=['Description','Value']\n",
    "    mars_df.set_index('Description',inplace=True)\n",
    "    mars_data=mars_df\n",
    "\n",
    "    #Mars Hemispheres\n",
    "    url_astro='https://astrogeology.usgs.gov/search/results?q=hemisphere+enhanced&k1=target&v1=Mars'\n",
    "    browser.visit(url_astro)\n",
    "    time.sleep(1)\n",
    "    html=browser.html\n",
    "    soup=bs(html,'html.parser')\n",
    "    results=soup.find_all('div',class_=\"item\")\n",
    "    hemisphere_image_urls=[]\n",
    "    base_url='https://astrogeology.usgs.gov'\n",
    "    \n",
    "    for result in results:\n",
    "        titles=result.find('h3').text\n",
    "        link_to_fullsize=result.find('a',class_=\"itemLink product-item\")['href']\n",
    "        browser.visit(base_url+link_to_fullsize)\n",
    "        time.sleep(1)\n",
    "        link_pg_html=browser.html\n",
    "        soup=bs(link_pg_html,'html.parser')\n",
    "        img_url=base_url + soup.find('img',class_=\"wide-image\")['src']\n",
    "        hemisphere_image_urls.append({\"Title\":titles,\"Image_url\":img_url})\n",
    "\n",
    "    browser.quit()\n",
    "    \n",
    "    mars_data={\n",
    "      \"title_news\":news_title,\n",
    "      \"news_desc\":news_p,\n",
    "      \"featured_img\":featured_img_url,\n",
    "      \"mars_weather\":mars_weather,\n",
    "      \"mars_facts\":mars_data,\n",
    "      \"mars_hemisphers\":[hemisphere_image_urls]\n",
    "    }\n",
    "    \n",
    "    return scrape"
   ]
  },
  {
   "cell_type": "code",
   "execution_count": 6,
   "metadata": {},
   "outputs": [
    {
     "data": {
      "text/plain": [
       "<function __main__.scrape()>"
      ]
     },
     "execution_count": 6,
     "metadata": {},
     "output_type": "execute_result"
    }
   ],
   "source": [
    "scrape()"
   ]
  }
 ],
 "metadata": {
  "kernelspec": {
   "display_name": "Python 3",
   "language": "python",
   "name": "python3"
  },
  "language_info": {
   "codemirror_mode": {
    "name": "ipython",
    "version": 3
   },
   "file_extension": ".py",
   "mimetype": "text/x-python",
   "name": "python",
   "nbconvert_exporter": "python",
   "pygments_lexer": "ipython3",
   "version": "3.7.1"
  }
 },
 "nbformat": 4,
 "nbformat_minor": 2
}
